{
 "cells": [
  {
   "cell_type": "markdown",
   "metadata": {},
   "source": [
    "# First Exploratory Data Analysis Project\n",
    "\n",
    "The following EDA project is based on the environmental remediation data, downloaded form kaggle dataset. Our main moto is to find the maximum useful insights using the simple exploratory data anlysis method. In this project, I have tried to use various python libraries.\n",
    "\n",
    "Using this data, let's try to find out answers of few questions-\n",
    "\n",
    "1. In which years projects were completed majorly?\n",
    "2. Which is the most observed contaminants?\n",
    "3. Top five remediated localities.\n",
    "4. Which region produces the major amount of toxic contaminants? \n",
    "5. Find out the ZIPCode of those places.\n",
    "6. Extract the owner details of major contaminated places.\n",
    "\n",
    "Following is the series of actions:\n",
    "\n",
    "1. Importing Dataset\n",
    "2. Cleaning Data\n",
    "3. Arranging data in the usable format\n",
    "4. Getting insights from it\n",
    "5. Visualising it in best possible way"
   ]
  },
  {
   "cell_type": "markdown",
   "metadata": {},
   "source": [
    "## FIRST THINGS FIRST \n",
    "### Import all the required libraries"
   ]
  },
  {
   "cell_type": "code",
   "execution_count": 14,
   "metadata": {
    "collapsed": true
   },
   "outputs": [],
   "source": [
    "import pandas as pd\n",
    "import numpy as np\n",
    "import matplotlib.pyplot as plt\n",
    "import datetime\n",
    "import seaborn as sn\n",
    "%matplotlib inline"
   ]
  },
  {
   "cell_type": "markdown",
   "metadata": {},
   "source": [
    "### Importing Dataset"
   ]
  },
  {
   "cell_type": "code",
   "execution_count": 15,
   "metadata": {},
   "outputs": [],
   "source": [
    "# Let's import our data\n",
    "df = pd.read_csv('environmental-remediation-sites.csv')"
   ]
  },
  {
   "cell_type": "markdown",
   "metadata": {},
   "source": [
    "Lets have a basic info of our data set"
   ]
  },
  {
   "cell_type": "code",
   "execution_count": 16,
   "metadata": {},
   "outputs": [
    {
     "name": "stdout",
     "output_type": "stream",
     "text": [
      "<class 'pandas.core.frame.DataFrame'>\n",
      "RangeIndex: 70323 entries, 0 to 70322\n",
      "Data columns (total 42 columns):\n",
      "Program Number              70323 non-null object\n",
      "Program Type                70323 non-null object\n",
      "Program Facility Name       70323 non-null object\n",
      "Site Class                  70323 non-null object\n",
      "Address1                    70323 non-null object\n",
      "Address2                    21276 non-null object\n",
      "Locality                    70200 non-null object\n",
      "County                      70323 non-null object\n",
      "ZIPCode                     70323 non-null object\n",
      "SWIS Code                   70323 non-null int64\n",
      "DEC Region                  70323 non-null int64\n",
      "Latitude                    70323 non-null float64\n",
      "Longitude                   70323 non-null float64\n",
      "Control Code                70323 non-null object\n",
      "Control Type                70323 non-null object\n",
      "OU                          70323 non-null object\n",
      "Project Name                59882 non-null object\n",
      "Project Completion Date     70279 non-null object\n",
      "Waste Name                  42449 non-null object\n",
      "Contaminants                40251 non-null object\n",
      "Owner Name                  67081 non-null object\n",
      "Owner Address1              66509 non-null object\n",
      "Owner Address2              41402 non-null object\n",
      "Owner City                  66676 non-null object\n",
      "Owner State                 67081 non-null object\n",
      "Owner ZIP                   67081 non-null object\n",
      "Disposal Name               24052 non-null object\n",
      "Disposal Address1           6470 non-null object\n",
      "Disposal Address2           19203 non-null object\n",
      "Disposal City               6547 non-null object\n",
      "Disposal ZIP                24143 non-null object\n",
      "Disposal State              24143 non-null object\n",
      "Operator Name               48976 non-null object\n",
      "Operator Address1           45923 non-null object\n",
      "Operator Address2           42046 non-null object\n",
      "Operator City               46183 non-null object\n",
      "Operator State              48999 non-null object\n",
      "Operator Zip                48999 non-null object\n",
      "Location 1                  70323 non-null object\n",
      "NYS Municipal Boundaries    70323 non-null int64\n",
      "New York Zip Codes          69762 non-null float64\n",
      "Counties                    70208 non-null float64\n",
      "dtypes: float64(4), int64(3), object(35)\n",
      "memory usage: 22.5+ MB\n"
     ]
    }
   ],
   "source": [
    "df.info()"
   ]
  },
  {
   "cell_type": "markdown",
   "metadata": {},
   "source": [
    "From the data information, it can be inferred that many blanks cells are available in the dataset."
   ]
  },
  {
   "cell_type": "markdown",
   "metadata": {},
   "source": [
    "### 1. Years with maximum project completion"
   ]
  },
  {
   "cell_type": "code",
   "execution_count": 17,
   "metadata": {},
   "outputs": [
    {
     "data": {
      "text/plain": [
       "1995.0    9906\n",
       "2003.0    9158\n",
       "2012.0    6569\n",
       "2015.0    2776\n",
       "2019.0    2528\n",
       "Name: Year, dtype: int64"
      ]
     },
     "execution_count": 17,
     "metadata": {},
     "output_type": "execute_result"
    }
   ],
   "source": [
    "# Find the years with maximum projects completed\n",
    "df[\"Project Completion Date\"] = pd.to_datetime(df[\"Project Completion Date\"])\n",
    "df['Year'] = df[\"Project Completion Date\"].dt.year\n",
    "Y = df['Year'].value_counts()\n",
    "Y.head(5) "
   ]
  },
  {
   "cell_type": "markdown",
   "metadata": {},
   "source": [
    "Visualise the results obtained above using matplotlib"
   ]
  },
  {
   "cell_type": "code",
   "execution_count": 18,
   "metadata": {},
   "outputs": [
    {
     "data": {
      "image/png": "[encoded data removed]",
      "text/plain": [
       "<matplotlib.figure.Figure at 0x1e112813e48>"
      ]
     },
     "metadata": {},
     "output_type": "display_data"
    }
   ],
   "source": [
    "fig, ax = plt.subplots(1, figsize=(10, 5))\n",
    "Year = ['1995', '2003', '2012', '2015', '2019']\n",
    "ax.barh(np.arange(len(Year)), Y.head(5)) \n",
    "plt.yticks(np.arange(len(Year)), Year)\n",
    "plt.xlabel('Total number of projects completed')\n",
    "plt.ylabel('Year')\n",
    "plt.title('Highest project completion years', color = 'green')\n",
    "plt.show()"
   ]
  },
  {
   "cell_type": "markdown",
   "metadata": {},
   "source": [
    "### 2. Five most observed contaminants throughout the years"
   ]
  },
  {
   "cell_type": "code",
   "execution_count": 19,
   "metadata": {},
   "outputs": [],
   "source": [
    "X = df['Contaminants'].value_counts(dropna = True).head(10)"
   ]
  },
  {
   "cell_type": "markdown",
   "metadata": {},
   "source": [
    "Visualisation of the above contaminants count"
   ]
  },
  {
   "cell_type": "code",
   "execution_count": 20,
   "metadata": {},
   "outputs": [
    {
     "data": {
      "image/png": "[encoded data removed]",
      "text/plain": [
       "<matplotlib.figure.Figure at 0x1e111f3d0f0>"
      ]
     },
     "metadata": {},
     "output_type": "display_data"
    }
   ],
   "source": [
    "# Using matplotlib\n",
    "fig, ax = plt.subplots(1, figsize=(10, 5))\n",
    "Cont = ['TCE', 'Lead', 'PCE', 'Xylene', 'Benzene', 'Toluene', 'Arsenic', 'Chromium', 'Coal tar', 'Benzo-pyrene']\n",
    "y = np.arange(len(Cont))\n",
    "ax.bar(y, X-900, width = 0.5) # plotting bars on graph\n",
    "plt.xticks(y, Cont)\n",
    "plt.xlabel('Contaminants')\n",
    "plt.ylabel('Sum')\n",
    "plt.title('Mostly Observed Contaminants', color = 'green', fontsize = 'large')\n",
    "plt.show()"
   ]
  },
  {
   "cell_type": "code",
   "execution_count": 21,
   "metadata": {},
   "outputs": [
    {
     "data": {
      "text/plain": [
       "<matplotlib.axes._subplots.AxesSubplot at 0x1e111db7ba8>"
      ]
     },
     "execution_count": 21,
     "metadata": {},
     "output_type": "execute_result"
    },
    {
     "data": {
      "image/png": "[encoded data removed]",
      "text/plain": [
       "<matplotlib.figure.Figure at 0x1e1128136a0>"
      ]
     },
     "metadata": {},
     "output_type": "display_data"
    }
   ],
   "source": [
    "# Using seaborn\n",
    "plt.figure(figsize = (10, 5))\n",
    "sn.barplot(Cont, X)"
   ]
  },
  {
   "cell_type": "markdown",
   "metadata": {},
   "source": [
    "### 3. Localities with maximum remediation projects completed so far"
   ]
  },
  {
   "cell_type": "code",
   "execution_count": 22,
   "metadata": {},
   "outputs": [
    {
     "data": {
      "text/plain": [
       "New Cassel          20345\n",
       "Syracuse             2996\n",
       "Lockport             1945\n",
       "Brooklyn             1814\n",
       "Long Island City     1685\n",
       "Name: Locality, dtype: int64"
      ]
     },
     "execution_count": 22,
     "metadata": {},
     "output_type": "execute_result"
    }
   ],
   "source": [
    "L = df['Locality'].value_counts().head(5)\n",
    "L"
   ]
  },
  {
   "cell_type": "markdown",
   "metadata": {},
   "source": [
    "Visualisation of major remediated projects"
   ]
  },
  {
   "cell_type": "code",
   "execution_count": 23,
   "metadata": {},
   "outputs": [
    {
     "data": {
      "image/png": "[encoded data removed]",
      "text/plain": [
       "<matplotlib.figure.Figure at 0x1e111f3db70>"
      ]
     },
     "metadata": {},
     "output_type": "display_data"
    }
   ],
   "source": [
    "plt.figure(1, figsize=(10,10))\n",
    "L.plot.pie(autopct=\"%1.1f%%\")\n",
    "plt.show()"
   ]
  },
  {
   "cell_type": "markdown",
   "metadata": {
    "collapsed": true
   },
   "source": [
    "### 4. Most hazardous locality\n",
    "As it is explicity observed that New cassel has most remediation projects, lets extract the details of major contaminants"
   ]
  },
  {
   "cell_type": "code",
   "execution_count": 24,
   "metadata": {},
   "outputs": [
    {
     "data": {
      "text/plain": [
       "[5, 2314, 1897, 1776, 1681]"
      ]
     },
     "execution_count": 24,
     "metadata": {},
     "output_type": "execute_result"
    }
   ],
   "source": [
    "# Major Contaminants in all critical localities\n",
    "M_NC = df[df['Locality'] == 'New Cassel']['Contaminants'].value_counts().sum()\n",
    "M_SY = df[df['Locality'] == 'Syracuse']['Contaminants'].value_counts().sum()\n",
    "M_LP = df[df['Locality'] == 'Lockport']['Contaminants'].value_counts().sum()\n",
    "M_BK = df[df['Locality'] == 'Brooklyn']['Contaminants'].value_counts().sum()\n",
    "M_LIC = df[df['Locality'] == 'Long Island City']['Contaminants'].value_counts().sum()\n",
    "\n",
    "C = [M_NC, M_SY, M_LP, M_BK, M_LIC]\n",
    "C"
   ]
  },
  {
   "cell_type": "markdown",
   "metadata": {},
   "source": [
    "Visualisation of comparison between remediation projects and contaminants"
   ]
  },
  {
   "cell_type": "code",
   "execution_count": 25,
   "metadata": {},
   "outputs": [
    {
     "data": {
      "image/png": "[encoded data removed]",
      "text/plain": [
       "<matplotlib.figure.Figure at 0x1e11242d7b8>"
      ]
     },
     "metadata": {},
     "output_type": "display_data"
    }
   ],
   "source": [
    "fig, ax = plt.subplots(figsize = (8, 7))\n",
    "x = np.arange(5)\n",
    "width = 0.3\n",
    "regions = ['New Cassel', 'Syracuse', 'Lockport', 'Brooklyn', 'Long Island City']\n",
    "\n",
    "q = ax.bar(x, C, width, color = 'blue')\n",
    "w = ax.bar(x+width, L, width, color = 'yellow')\n",
    "plt.xticks(x, regions)\n",
    "plt.xlabel('Localities')\n",
    "plt.ylabel('Sum')\n",
    "plt.title('Comparison of remediated projects Vs contaminants count')\n",
    "plt.legend((q[0], w[0]), ('Contaminants', 'Projects'))\n",
    "plt.show()\n"
   ]
  },
  {
   "cell_type": "markdown",
   "metadata": {},
   "source": [
    "Due to non-uniform data, total contaminant count is negligible in New Cassel as compared to its remediation sites. It leads us to misleading assertion. Looking at the number of remediated local counts with number of contaminants obtained, it can be inferred that Syracuse, Lockport and Brooklyn are three most hazardous localities."
   ]
  },
  {
   "cell_type": "markdown",
   "metadata": {},
   "source": [
    "### 5. ZIP Codes of hazardous areas"
   ]
  },
  {
   "cell_type": "code",
   "execution_count": 26,
   "metadata": {},
   "outputs": [
    {
     "data": {
      "text/plain": [
       "[Index(['13212', '13204', '13208-1403', '13206'], dtype='object'),\n",
       " Index(['14094'], dtype='object'),\n",
       " Index(['11206', '11249', '11211'], dtype='object')]"
      ]
     },
     "execution_count": 26,
     "metadata": {},
     "output_type": "execute_result"
    }
   ],
   "source": [
    "# My attempt to find out the zip_code of major contaminated places\n",
    "X_ind = X.head(5).index\n",
    "ZIPlist_SY = df[(df['Locality'] == \"Syracuse\") & (df['Contaminants'] == X_ind.any())]['ZIPCode'].value_counts().head(5)\n",
    "ZIPlist_LP = df[(df['Locality'] == \"Lockport\") & (df['Contaminants'] == X_ind.any())]['ZIPCode'].value_counts().head(5)\n",
    "ZIPlist_BK = df[(df['Locality'] == \"Brooklyn\") & (df['Contaminants'] == X_ind.any())]['ZIPCode'].value_counts().head(5)\n",
    "ZIP_df = list([ZIPlist_SY, ZIPlist_LP, ZIPlist_BK])\n",
    "#ZIP_df\n",
    "ZIPCode = [ZIPlist_SY.head(4).index, ZIPlist_LP.index, ZIPlist_BK.head(3).index]\n",
    "ZIPCode"
   ]
  },
  {
   "cell_type": "markdown",
   "metadata": {},
   "source": [
    "ZIPCode is the list of all the ZIP Codes of hazardous areas in the respective localities"
   ]
  },
  {
   "cell_type": "markdown",
   "metadata": {},
   "source": [
    "### 6. Owner of major contaminanted areas "
   ]
  },
  {
   "cell_type": "code",
   "execution_count": 27,
   "metadata": {},
   "outputs": [
    {
     "data": {
      "text/plain": [
       "DEPT. A-3 REAL ESTATE TX     434\n",
       "Town of Salina               431\n",
       "SANITATION DIV. DRAINAGE&    423\n",
       "TOWN OF SALINA               420\n",
       "Name: Owner Name, dtype: int64"
      ]
     },
     "execution_count": 27,
     "metadata": {},
     "output_type": "execute_result"
    }
   ],
   "source": [
    "O = pd.Series(['13212', '13204', '13208', '13206', '14094', '11206', '11249', '11211'])\n",
    "df[\"ZIPCode\"] = df[\"ZIPCode\"].astype('str')\n",
    "df[\"ZIPCode\"] = df[\"ZIPCode\"].apply(lambda x: x.split(\"-\")[0])\n",
    "Owners = df[df[\"ZIPCode\"] == O.any()]['Owner Name'].value_counts()\n",
    "\n",
    "Owners"
   ]
  },
  {
   "cell_type": "markdown",
   "metadata": {},
   "source": [
    "### Conclusion:\n",
    "In conclusion, from the received data about the waste remediation projects, I have tried to extract the the effectivity of the project management team and the details to find the root cause of these harmful waste generation. Majority of these wastes are collected from the regions like Syracuse, Lockport, brooklyn etc. Along with this, we tried to find the major areas from the zip codes and tried to reach the details of those owners."
   ]
  },
  {
   "cell_type": "code",
   "execution_count": null,
   "metadata": {
    "collapsed": true
   },
   "outputs": [],
   "source": []
  }
 ],
 "metadata": {
  "kernelspec": {
   "display_name": "Python 3",
   "language": "python",
   "name": "python3"
  },
  "language_info": {
   "codemirror_mode": {
    "name": "ipython",
    "version": 3
   },
   "file_extension": ".py",
   "mimetype": "text/x-python",
   "name": "python",
   "nbconvert_exporter": "python",
   "pygments_lexer": "ipython3",
   "version": "3.6.1"
  }
 },
 "nbformat": 4,
 "nbformat_minor": 2
}
